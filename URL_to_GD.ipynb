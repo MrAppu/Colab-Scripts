{
  "nbformat": 4,
  "nbformat_minor": 0,
  "metadata": {
    "colab": {
      "name": "URL to GD.ipynb",
      "provenance": []
    },
    "kernelspec": {
      "display_name": "Python 3",
      "name": "python3"
    }
  },
  "cells": [
    {
      "cell_type": "code",
      "metadata": {
        "id": "9GpN4WVdEU7i",
        "colab": {
          "base_uri": "https://localhost:8080/"
        },
        "outputId": "46967e03-9314-427a-f213-d91fa00c5193"
      },
      "source": [
        "from google.colab import drive\n",
        "drive.mount('/content/drive')"
      ],
      "execution_count": null,
      "outputs": [
        {
          "output_type": "stream",
          "text": [
            "Mounted at /content/drive\n"
          ],
          "name": "stdout"
        }
      ]
    },
    {
      "cell_type": "code",
      "metadata": {
        "colab": {
          "base_uri": "https://localhost:8080/"
        },
        "id": "70ldpZPh6eme",
        "outputId": "2f8c9203-416c-425f-b012-f9dc79fc340a"
      },
      "source": [
        "import os \n",
        "os.chdir('/content/drive/Shareddrives/FTP Test/')\n",
        "!wget -c 'https://botxfiles.herokuapp.com/60344169805539407022355288/Money%20Heist%20S01%20E10-E13%20@HindiNewMovies%20(2).mkv' --no-check-certificate"
      ],
      "execution_count": null,
      "outputs": [
        {
          "output_type": "stream",
          "text": [
            "--2021-01-13 07:13:52--  https://botxfiles.herokuapp.com/60344169805539407022355288/Money%20Heist%20S01%20E10-E13%20@HindiNewMovies%20(2).mkv\n",
            "Resolving botxfiles.herokuapp.com (botxfiles.herokuapp.com)... 34.247.249.3, 52.214.142.212, 52.208.85.229, ...\n",
            "Connecting to botxfiles.herokuapp.com (botxfiles.herokuapp.com)|34.247.249.3|:443... connected.\n",
            "HTTP request sent, awaiting response... 200 OK\n",
            "Length: 731686062 (698M) [video/x-matroska]\n",
            "Saving to: ‘Money Heist S01 E10-E13 @HindiNewMovies (2).mkv’\n",
            "\n",
            "Money Heist S01 E10 100%[===================>] 697.79M  1.36MB/s    in 7m 24s  \n",
            "\n",
            "2021-01-13 07:21:19 (1.57 MB/s) - ‘Money Heist S01 E10-E13 @HindiNewMovies (2).mkv’ saved [731686062/731686062]\n",
            "\n"
          ],
          "name": "stdout"
        }
      ]
    },
    {
      "cell_type": "code",
      "metadata": {
        "id": "U64wFDHDE__4"
      },
      "source": [
        ""
      ],
      "execution_count": null,
      "outputs": []
    }
  ]
}