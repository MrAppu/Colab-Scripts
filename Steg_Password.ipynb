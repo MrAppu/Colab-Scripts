{
  "nbformat": 4,
  "nbformat_minor": 0,
  "metadata": {
    "colab": {
      "name": "Steg Password.ipynb",
      "provenance": [],
      "collapsed_sections": []
    },
    "kernelspec": {
      "name": "python3",
      "display_name": "Python 3"
    }
  },
  "cells": [
    {
      "cell_type": "code",
      "metadata": {
        "id": "_Nx7uMDChtRs",
        "colab": {
          "base_uri": "https://localhost:8080/",
          "height": 34
        },
        "outputId": "1f7a9f59-b66b-4108-f4e5-6134f5473a55"
      },
      "source": [
        "import itertools\n",
        "import random\n",
        "wordlist = list(map(''.join, itertools.product(*((c.upper(), c.lower()) for c in '53C4rmYv111463')))) # This is going to be huge, Make sure to have better GPU\n",
        "\n",
        "ind = random.randint(0,len(wordlist))\n",
        "print(\"Your Password is :\",wordlist[ind])"
      ],
      "execution_count": null,
      "outputs": [
        {
          "output_type": "stream",
          "text": [
            "Your Password is : 53C4rmYv111463\n"
          ],
          "name": "stdout"
        }
      ]
    }
  ]
}