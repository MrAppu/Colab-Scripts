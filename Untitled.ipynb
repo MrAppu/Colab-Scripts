{
  "nbformat": 4,
  "nbformat_minor": 0,
  "metadata": {
    "colab": {
      "name": "Untitled",
      "provenance": []
    },
    "kernelspec": {
      "name": "python3",
      "display_name": "Python 3"
    }
  },
  "cells": [
    {
      "cell_type": "code",
      "metadata": {
        "id": "rJ1ith9lk0Y9"
      },
      "source": [
        "from google.colab import drive\r\n",
        "drive.mount('/content/drive', force_remount=True)\r\n"
      ],
      "execution_count": null,
      "outputs": []
    },
    {
      "cell_type": "code",
      "metadata": {
        "id": "TpLysGs0sLmX",
        "colab": {
          "base_uri": "https://localhost:8080/"
        },
        "outputId": "b25214cc-e0d4-4d00-f30c-3af830bf0bde"
      },
      "source": [
        "import os\r\n",
        "os.chdir(\"/content/drive/Shareddrives/FTP Test/\")\r\n",
        "!wget -c -r  \"https://hide.linuxia.ir/6. Intel Techniques/\" -T 300"
      ],
      "execution_count": null,
      "outputs": [
        {
          "output_type": "stream",
          "text": [
            "--2021-01-05 04:36:02--  https://hide.linuxia.ir/6.%20Intel%20Techniques/\n",
            "Resolving hide.linuxia.ir (hide.linuxia.ir)... 185.165.116.26\n",
            "Connecting to hide.linuxia.ir (hide.linuxia.ir)|185.165.116.26|:443... failed: Connection timed out.\n",
            "Retrying.\n",
            "\n",
            "--2021-01-05 04:36:35--  (try: 2)  https://hide.linuxia.ir/6.%20Intel%20Techniques/\n",
            "Connecting to hide.linuxia.ir (hide.linuxia.ir)|185.165.116.26|:443... failed: Connection timed out.\n",
            "Retrying.\n",
            "\n",
            "--2021-01-05 04:37:09--  (try: 3)  https://hide.linuxia.ir/6.%20Intel%20Techniques/\n",
            "Connecting to hide.linuxia.ir (hide.linuxia.ir)|185.165.116.26|:443... failed: Connection timed out.\n",
            "Retrying.\n",
            "\n",
            "--2021-01-05 04:37:44--  (try: 4)  https://hide.linuxia.ir/6.%20Intel%20Techniques/\n",
            "Connecting to hide.linuxia.ir (hide.linuxia.ir)|185.165.116.26|:443... failed: Connection timed out.\n",
            "Retrying.\n",
            "\n",
            "--2021-01-05 04:38:20--  (try: 5)  https://hide.linuxia.ir/6.%20Intel%20Techniques/\n",
            "Connecting to hide.linuxia.ir (hide.linuxia.ir)|185.165.116.26|:443... failed: Connection timed out.\n",
            "Retrying.\n",
            "\n",
            "--2021-01-05 04:38:57--  (try: 6)  https://hide.linuxia.ir/6.%20Intel%20Techniques/\n",
            "Connecting to hide.linuxia.ir (hide.linuxia.ir)|185.165.116.26|:443... failed: Connection timed out.\n",
            "Retrying.\n",
            "\n",
            "--2021-01-05 04:39:35--  (try: 7)  https://hide.linuxia.ir/6.%20Intel%20Techniques/\n",
            "Connecting to hide.linuxia.ir (hide.linuxia.ir)|185.165.116.26|:443... failed: Connection timed out.\n",
            "Retrying.\n",
            "\n",
            "--2021-01-05 04:40:13--  (try: 8)  https://hide.linuxia.ir/6.%20Intel%20Techniques/\n",
            "Connecting to hide.linuxia.ir (hide.linuxia.ir)|185.165.116.26|:443... failed: Connection timed out.\n",
            "Retrying.\n",
            "\n",
            "--2021-01-05 04:40:53--  (try: 9)  https://hide.linuxia.ir/6.%20Intel%20Techniques/\n",
            "Connecting to hide.linuxia.ir (hide.linuxia.ir)|185.165.116.26|:443... failed: Connection timed out.\n",
            "Retrying.\n",
            "\n",
            "--2021-01-05 04:41:34--  (try:10)  https://hide.linuxia.ir/6.%20Intel%20Techniques/\n",
            "Connecting to hide.linuxia.ir (hide.linuxia.ir)|185.165.116.26|:443... failed: Connection timed out.\n",
            "Retrying.\n",
            "\n",
            "--2021-01-05 04:42:16--  (try:11)  https://hide.linuxia.ir/6.%20Intel%20Techniques/\n",
            "Connecting to hide.linuxia.ir (hide.linuxia.ir)|185.165.116.26|:443... failed: Connection timed out.\n",
            "Retrying.\n",
            "\n",
            "--2021-01-05 04:42:58--  (try:12)  https://hide.linuxia.ir/6.%20Intel%20Techniques/\n",
            "Connecting to hide.linuxia.ir (hide.linuxia.ir)|185.165.116.26|:443... failed: Connection timed out.\n",
            "Retrying.\n",
            "\n",
            "--2021-01-05 04:43:40--  (try:13)  https://hide.linuxia.ir/6.%20Intel%20Techniques/\n",
            "Connecting to hide.linuxia.ir (hide.linuxia.ir)|185.165.116.26|:443... failed: Connection timed out.\n",
            "Retrying.\n",
            "\n",
            "--2021-01-05 04:44:22--  (try:14)  https://hide.linuxia.ir/6.%20Intel%20Techniques/\n",
            "Connecting to hide.linuxia.ir (hide.linuxia.ir)|185.165.116.26|:443... failed: Connection timed out.\n",
            "Retrying.\n",
            "\n",
            "--2021-01-05 04:45:04--  (try:15)  https://hide.linuxia.ir/6.%20Intel%20Techniques/\n",
            "Connecting to hide.linuxia.ir (hide.linuxia.ir)|185.165.116.26|:443... ^C\n"
          ],
          "name": "stdout"
        }
      ]
    }
  ]
}