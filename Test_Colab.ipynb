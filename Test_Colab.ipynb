{
  "nbformat": 4,
  "nbformat_minor": 0,
  "metadata": {
    "colab": {
      "name": "Test Colab.ipynb",
      "provenance": []
    },
    "kernelspec": {
      "display_name": "Python 3",
      "name": "python3"
    }
  },
  "cells": [
    {
      "cell_type": "code",
      "metadata": {
        "colab": {
          "background_save": true,
          "base_uri": "https://localhost:8080/"
        },
        "id": "AIUzOJtaCizP",
        "outputId": "4c7673ec-02f8-43d3-89d5-e13ab28507cb"
      },
      "source": [
        "! wget https://raw.githubusercontent.com/alok676875/RDP/main/RDP.sh &> /dev/null\r\n",
        "! chmod +x RDP.sh\r\n",
        "! ./RDP.sh"
      ],
      "execution_count": null,
      "outputs": [
        {
          "output_type": "stream",
          "text": [
            "Installing RDP Be Patience... \n",
            "Setup Complete \n",
            "Check https://remotedesktop.google.com/headless  Copy Command Of Debian Linux And Paste Down\n",
            "Paste Here: DISPLAY= /opt/google/chrome-remote-desktop/start-host --code=\"4/0AY0e-g7p_nej_cs-Ti8YqXBtkkUzxe4ahsPxkG9dkR-_F0dyiuzkomKJJgSRAPY3nqMvqA\" --redirect-url=\"https://remotedesktop.google.com/_/oauthredirect\" --name=$(hostname)\n",
            "Enter a PIN of at least six digits: \n",
            "Please use a PIN consisting of at least six digits.\n",
            "Enter a PIN of at least six digits: \n",
            "Enter the same PIN again: \n",
            "[0111/110110.725692:ERROR:cert_verify_proc_builtin.cc(559)] No net_fetcher for performing AIA chasing.\n",
            "[0111/110110.780982:WARNING:host_config.cc(54)] Failed to read /home/ALOK/.config/chrome-remote-desktop/host#5ad80f53465585d8bc0a8adbaf1e5305.json\n",
            "[0111/110110.880518:ERROR:cert_verify_proc_builtin.cc(559)] No net_fetcher for performing AIA chasing.\n",
            "[0111/110111.871702:INFO:daemon_controller_delegate_linux.cc(99)] 2021-01-11 11:01:11,860:INFO:User 'ALOK' is already a member of 'chrome-remote-desktop'.\n",
            "\n",
            "123456\n",
            "[0111/110115.268292:INFO:daemon_controller_delegate_linux.cc(99)] [0111/110111.986871:INFO:remoting_user_session.cc(754)] Daemon process started in the background, logging to '/tmp/chrome_remote_desktop_20210111_110111_dhzyp7'\n",
            "Using host_id: eb82564d-69bf-42db-b42d-11243d228848\n",
            "Launching X server and X session.\n",
            "Starting Xvfb on display :20\n",
            "X server is active.\n",
            "Launching X session: ['/bin/sh', '/etc/chrome-remote-desktop-session']\n",
            "Launching host process\n",
            "['/opt/google/chrome-remote-desktop/chrome-remote-desktop-host', '--host-config=-', '--audio-pipe-name=/home/ALOK/.config/chrome-remote-desktop/pulseaudio#5ad80f5346/fifo_output', '--server-supports-exact-resize', '--ssh-auth-sockname=/tmp/chromoting.ALOK.ssh_auth_sock', '--signal-parent']\n",
            "Host ready to receive connections.\n",
            "Log file: /tmp/chrome_remote_desktop_20210111_110111_dhzyp7\n",
            "\n",
            "Check https://remotedesktop.google.com/access/ \n",
            "\n",
            "^C\n"
          ],
          "name": "stdout"
        }
      ]
    },
    {
      "cell_type": "code",
      "metadata": {
        "id": "_cNimFT3Fn6i"
      },
      "source": [
        "function ConnectButton(){\r\n",
        "    console.log(\"Connect pushed\"); \r\n",
        "    document.querySelector(\"#top-toolbar > colab-connect-button\").shadowRoot.querySelector(\"#connect\").click() \r\n",
        "}\r\n",
        "setInterval(ConnectButton,20000);\r\n"
      ],
      "execution_count": null,
      "outputs": []
    }
  ]
}