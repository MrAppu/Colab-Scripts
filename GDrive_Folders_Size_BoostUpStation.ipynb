{
  "nbformat": 4,
  "nbformat_minor": 0,
  "metadata": {
    "colab": {
      "name": "GDrive_Folders_Size_BoostUpStation.ipynb",
      "provenance": [],
      "collapsed_sections": []
    },
    "kernelspec": {
      "display_name": "Python 3",
      "language": "python",
      "name": "python3"
    },
    "language_info": {
      "codemirror_mode": {
        "name": "ipython",
        "version": 3
      },
      "file_extension": ".py",
      "mimetype": "text/x-python",
      "name": "python",
      "nbconvert_exporter": "python",
      "pygments_lexer": "ipython3",
      "version": "3.7.7"
    }
  },
  "cells": [
    {
      "cell_type": "code",
      "metadata": {
        "id": "R4QBua4xKN2W"
      },
      "source": [
        "#@title Subscribe : BoostUpStation (Always give Credits)"
      ],
      "execution_count": null,
      "outputs": []
    },
    {
      "cell_type": "code",
      "metadata": {
        "colab": {
          "base_uri": "https://localhost:8080/"
        },
        "id": "_hpsYhc5hR0o",
        "cellView": "form",
        "outputId": "f6354365-69ee-48f4-d3d9-bdc9a811b8c4"
      },
      "source": [
        "#@title  <= RUN THIS CELL TO MOUNT YOUR DRIVE (For which you want the size of folders in)\n",
        "from google.colab import drive\n",
        "drive.mount('/content/drive', force_remount=True)"
      ],
      "execution_count": null,
      "outputs": [
        {
          "output_type": "stream",
          "text": [
            "Mounted at /content/drive\n"
          ],
          "name": "stdout"
        }
      ]
    },
    {
      "cell_type": "code",
      "metadata": {
        "id": "oTpJougMtrE1",
        "cellView": "form",
        "colab": {
          "base_uri": "https://localhost:8080/"
        },
        "outputId": "a97ef3ff-a83d-42b2-85ea-ed15309a0dff"
      },
      "source": [
        "#@title <= RUN THIS CELL TO get the individual & total size of all folders inside the location you just put\n",
        "\n",
        "import os\n",
        "\n",
        "Location = \"/content/drive/Shareddrives/Net,Exp,Crypt\" #@param {type:\"string\"}\n",
        "\n",
        "os.chdir(Location)\n",
        "\n",
        "!echo Here are the size of files, folders inside the given location\n",
        "!echo\n",
        "# !echo $(du -shc -- *)\n",
        "!du -shc -- *"
      ],
      "execution_count": null,
      "outputs": [
        {
          "output_type": "stream",
          "text": [
            "Here are the size of files, folders inside the given location\n",
            "\n",
            "2.6G\tCryptography\n",
            "153G\t-Networking-\n",
            "87G\t-REMAX-\n",
            "242G\ttotal\n"
          ],
          "name": "stdout"
        }
      ]
    },
    {
      "cell_type": "code",
      "metadata": {
        "id": "v5kc3cWhHN8O"
      },
      "source": [
        "#@title <= RUN THIS CELL TO UnMount the Google Drive\n",
        "\n",
        "from google.colab import drive\n",
        "drive.flush_and_unmount()\n"
      ],
      "execution_count": null,
      "outputs": []
    }
  ]
}