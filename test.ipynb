{
  "nbformat": 4,
  "nbformat_minor": 0,
  "metadata": {
    "colab": {
      "name": "test.ipynb",
      "provenance": []
    },
    "kernelspec": {
      "name": "python3",
      "display_name": "Python 3"
    }
  },
  "cells": [
    {
      "cell_type": "code",
      "metadata": {
        "id": "AOxG5_aCNUil"
      },
      "source": [
        "from google.colab import drive\r\n",
        "drive.mount('/gdrive')"
      ],
      "execution_count": null,
      "outputs": []
    },
    {
      "cell_type": "code",
      "metadata": {
        "colab": {
          "base_uri": "https://localhost:8080/"
        },
        "id": "qGjH4voYNlOu",
        "outputId": "e9dde44f-8a70-4b18-e3cb-1647269bcac7"
      },
      "source": [
        "!curl -s https://raw.githubusercontent.com/sivel/speedtest-cli/master/speedtest.py | python -"
      ],
      "execution_count": null,
      "outputs": [
        {
          "output_type": "stream",
          "text": [
            "Retrieving speedtest.net configuration...\n",
            "Testing from Google Cloud (35.237.194.220)...\n",
            "Retrieving speedtest.net server list...\n",
            "Selecting best server based on ping...\n",
            "Hosted by Farmers Telephone Cooperative, Inc. (Sumter, SC) [122.65 km]: 23.413 ms\n",
            "Testing download speed................................................................................\n",
            "Download: 672.06 Mbit/s\n",
            "Testing upload speed......................................................................................................\n",
            "Upload: 270.23 Mbit/s\n"
          ],
          "name": "stdout"
        }
      ]
    },
    {
      "cell_type": "code",
      "metadata": {
        "id": "ky41ouipNues"
      },
      "source": [
        "!ls '/gdrive/'"
      ],
      "execution_count": null,
      "outputs": []
    },
    {
      "cell_type": "code",
      "metadata": {
        "colab": {
          "base_uri": "https://localhost:8080/"
        },
        "id": "4sy0m1FBN1hW",
        "outputId": "f6c623d8-024a-4ba9-a1d3-8c690ff705f0"
      },
      "source": [
        "!ls '/gdrive/Shared drives/'"
      ],
      "execution_count": null,
      "outputs": [
        {
          "output_type": "stream",
          "text": [
            " Exploits  'GDrive Server [Contributors]'   LEARNING   MindValley\n"
          ],
          "name": "stdout"
        }
      ]
    },
    {
      "cell_type": "code",
      "metadata": {
        "colab": {
          "base_uri": "https://localhost:8080/"
        },
        "id": "IY5saZY4OIxh",
        "outputId": "77e47eb7-bb1e-4e96-d622-447d5cab821a"
      },
      "source": [
        "!cp -av \"/gdrive/Shared drives/LEARNING\" '/gdrive/Shared drives/Exploits'"
      ],
      "execution_count": null,
      "outputs": [
        {
          "output_type": "stream",
          "text": [
            "'/gdrive/Shared drives/LEARNING' -> '/gdrive/Shared drives/Exploits/LEARNING'\n",
            "'/gdrive/Shared drives/LEARNING/-CompTIA-' -> '/gdrive/Shared drives/Exploits/LEARNING/-CompTIA-'\n",
            "'/gdrive/Shared drives/LEARNING/-CompTIA-/A+ - Mike Meyers' -> '/gdrive/Shared drives/Exploits/LEARNING/-CompTIA-/A+ - Mike Meyers'\n",
            "'/gdrive/Shared drives/LEARNING/-CompTIA-/A+ - Mike Meyers/07.Motherboards' -> '/gdrive/Shared drives/Exploits/LEARNING/-CompTIA-/A+ - Mike Meyers/07.Motherboards'\n",
            "'/gdrive/Shared drives/LEARNING/-CompTIA-/A+ - Mike Meyers/07.Motherboards/0704.Touring the Case.mp4' -> '/gdrive/Shared drives/Exploits/LEARNING/-CompTIA-/A+ - Mike Meyers/07.Motherboards/0704.Touring the Case.mp4'\n",
            "'/gdrive/Shared drives/LEARNING/-CompTIA-/A+ - Mike Meyers/07.Motherboards/0703.Touring the Motherboard.mp4' -> '/gdrive/Shared drives/Exploits/LEARNING/-CompTIA-/A+ - Mike Meyers/07.Motherboards/0703.Touring the Motherboard.mp4'\n",
            "'/gdrive/Shared drives/LEARNING/-CompTIA-/A+ - Mike Meyers/07.Motherboards/0705.Installing a Motherboard.mp4' -> '/gdrive/Shared drives/Exploits/LEARNING/-CompTIA-/A+ - Mike Meyers/07.Motherboards/0705.Installing a Motherboard.mp4'\n",
            "'/gdrive/Shared drives/LEARNING/-CompTIA-/A+ - Mike Meyers/07.Motherboards/0702.Chipsets.mp4' -> '/gdrive/Shared drives/Exploits/LEARNING/-CompTIA-/A+ - Mike Meyers/07.Motherboards/0702.Chipsets.mp4'\n",
            "'/gdrive/Shared drives/LEARNING/-CompTIA-/A+ - Mike Meyers/07.Motherboards/0701.Form Factors.mp4' -> '/gdrive/Shared drives/Exploits/LEARNING/-CompTIA-/A+ - Mike Meyers/07.Motherboards/0701.Form Factors.mp4'\n",
            "'/gdrive/Shared drives/LEARNING/-CompTIA-/A+ - Mike Meyers/05.RAM' -> '/gdrive/Shared drives/Exploits/LEARNING/-CompTIA-/A+ - Mike Meyers/05.RAM'\n",
            "'/gdrive/Shared drives/LEARNING/-CompTIA-/A+ - Mike Meyers/05.RAM/0504.Installing RAM.mp4' -> '/gdrive/Shared drives/Exploits/LEARNING/-CompTIA-/A+ - Mike Meyers/05.RAM/0504.Installing RAM.mp4'\n",
            "'/gdrive/Shared drives/LEARNING/-CompTIA-/A+ - Mike Meyers/05.RAM/0502.RAM Capacity.mp4' -> '/gdrive/Shared drives/Exploits/LEARNING/-CompTIA-/A+ - Mike Meyers/05.RAM/0502.RAM Capacity.mp4'\n",
            "'/gdrive/Shared drives/LEARNING/-CompTIA-/A+ - Mike Meyers/05.RAM/0503.RAM Features.mp4' -> '/gdrive/Shared drives/Exploits/LEARNING/-CompTIA-/A+ - Mike Meyers/05.RAM/0503.RAM Features.mp4'\n",
            "'/gdrive/Shared drives/LEARNING/-CompTIA-/A+ - Mike Meyers/05.RAM/0501.RAM Technology.mp4' -> '/gdrive/Shared drives/Exploits/LEARNING/-CompTIA-/A+ - Mike Meyers/05.RAM/0501.RAM Technology.mp4'\n",
            "'/gdrive/Shared drives/LEARNING/-CompTIA-/A+ - Mike Meyers/01.All About the CompTIA A+' -> '/gdrive/Shared drives/Exploits/LEARNING/-CompTIA-/A+ - Mike Meyers/01.All About the CompTIA A+'\n",
            "'/gdrive/Shared drives/LEARNING/-CompTIA-/A+ - Mike Meyers/01.All About the CompTIA A+/0102.What is the CompTIA A+.mp4' -> '/gdrive/Shared drives/Exploits/LEARNING/-CompTIA-/A+ - Mike Meyers/01.All About the CompTIA A+/0102.What is the CompTIA A+.mp4'\n",
            "'/gdrive/Shared drives/LEARNING/-CompTIA-/A+ - Mike Meyers/01.All About the CompTIA A+/0106.How to Use this Video Course.mp4' -> '/gdrive/Shared drives/Exploits/LEARNING/-CompTIA-/A+ - Mike Meyers/01.All About the CompTIA A+/0106.How to Use this Video Course.mp4'\n",
            "'/gdrive/Shared drives/LEARNING/-CompTIA-/A+ - Mike Meyers/01.All About the CompTIA A+/0104.What is on the CompTIA A+ Core 1 (220-1001) Exam.mp4' -> '/gdrive/Shared drives/Exploits/LEARNING/-CompTIA-/A+ - Mike Meyers/01.All About the CompTIA A+/0104.What is on the CompTIA A+ Core 1 (220-1001) Exam.mp4'\n",
            "'/gdrive/Shared drives/LEARNING/-CompTIA-/A+ - Mike Meyers/01.All About the CompTIA A+/0101.Introduction to A+.mp4' -> '/gdrive/Shared drives/Exploits/LEARNING/-CompTIA-/A+ - Mike Meyers/01.All About the CompTIA A+/0101.Introduction to A+.mp4'\n",
            "'/gdrive/Shared drives/LEARNING/-CompTIA-/A+ - Mike Meyers/01.All About the CompTIA A+/0105.How to Pass the CompTIA A+ Exams.mp4' -> '/gdrive/Shared drives/Exploits/LEARNING/-CompTIA-/A+ - Mike Meyers/01.All About the CompTIA A+/0105.How to Pass the CompTIA A+ Exams.mp4'\n",
            "'/gdrive/Shared drives/LEARNING/-CompTIA-/A+ - Mike Meyers/01.All About the CompTIA A+/0103.Why get CompTIA A+ Certified.mp4' -> '/gdrive/Shared drives/Exploits/LEARNING/-CompTIA-/A+ - Mike Meyers/01.All About the CompTIA A+/0103.Why get CompTIA A+ Certified.mp4'\n",
            "'/gdrive/Shared drives/LEARNING/-CompTIA-/A+ - Mike Meyers/03.The Visible Computer' -> '/gdrive/Shared drives/Exploits/LEARNING/-CompTIA-/A+ - Mike Meyers/03.The Visible Computer'\n",
            "'/gdrive/Shared drives/LEARNING/-CompTIA-/A+ - Mike Meyers/03.The Visible Computer/0302.External Connections.mp4' -> '/gdrive/Shared drives/Exploits/LEARNING/-CompTIA-/A+ - Mike Meyers/03.The Visible Computer/0302.External Connections.mp4'\n",
            "'/gdrive/Shared drives/LEARNING/-CompTIA-/A+ - Mike Meyers/03.The Visible Computer/0304.What is a Computer.mp4' -> '/gdrive/Shared drives/Exploits/LEARNING/-CompTIA-/A+ - Mike Meyers/03.The Visible Computer/0304.What is a Computer.mp4'\n",
            "'/gdrive/Shared drives/LEARNING/-CompTIA-/A+ - Mike Meyers/03.The Visible Computer/0301.Primary PC Components.mp4' -> '/gdrive/Shared drives/Exploits/LEARNING/-CompTIA-/A+ - Mike Meyers/03.The Visible Computer/0301.Primary PC Components.mp4'\n",
            "'/gdrive/Shared drives/LEARNING/-CompTIA-/A+ - Mike Meyers/03.The Visible Computer/0303.Inside the PC.mp4' -> '/gdrive/Shared drives/Exploits/LEARNING/-CompTIA-/A+ - Mike Meyers/03.The Visible Computer/0303.Inside the PC.mp4'\n",
            "'/gdrive/Shared drives/LEARNING/-CompTIA-/A+ - Mike Meyers/02.Safety and Professionalism' -> '/gdrive/Shared drives/Exploits/LEARNING/-CompTIA-/A+ - Mike Meyers/02.Safety and Professionalism'\n",
            "'/gdrive/Shared drives/LEARNING/-CompTIA-/A+ - Mike Meyers/02.Safety and Professionalism/0202.Troubleshooting Theory.mp4' -> '/gdrive/Shared drives/Exploits/LEARNING/-CompTIA-/A+ - Mike Meyers/02.Safety and Professionalism/0202.Troubleshooting Theory.mp4'\n",
            "'/gdrive/Shared drives/LEARNING/-CompTIA-/A+ - Mike Meyers/02.Safety and Professionalism/0201.Tools of the Trade.mp4' -> '/gdrive/Shared drives/Exploits/LEARNING/-CompTIA-/A+ - Mike Meyers/02.Safety and Professionalism/0201.Tools of the Trade.mp4'\n",
            "'/gdrive/Shared drives/LEARNING/-CompTIA-/A+ - Mike Meyers/06.Firmware' -> '/gdrive/Shared drives/Exploits/LEARNING/-CompTIA-/A+ - Mike Meyers/06.Firmware'\n",
            "'/gdrive/Shared drives/LEARNING/-CompTIA-/A+ - Mike Meyers/06.Firmware/0602.POST.mp4' -> '/gdrive/Shared drives/Exploits/LEARNING/-CompTIA-/A+ - Mike Meyers/06.Firmware/0602.POST.mp4'\n",
            "'/gdrive/Shared drives/LEARNING/-CompTIA-/A+ - Mike Meyers/06.Firmware/0604.Troubleshooting Firmware.mp4' -> '/gdrive/Shared drives/Exploits/LEARNING/-CompTIA-/A+ - Mike Meyers/06.Firmware/0604.Troubleshooting Firmware.mp4'\n",
            "'/gdrive/Shared drives/LEARNING/-CompTIA-/A+ - Mike Meyers/06.Firmware/0603.System Setup.mp4' -> '/gdrive/Shared drives/Exploits/LEARNING/-CompTIA-/A+ - Mike Meyers/06.Firmware/0603.System Setup.mp4'\n",
            "'/gdrive/Shared drives/LEARNING/-CompTIA-/A+ - Mike Meyers/06.Firmware/0601.What is the BIOS.mp4' -> '/gdrive/Shared drives/Exploits/LEARNING/-CompTIA-/A+ - Mike Meyers/06.Firmware/0601.What is the BIOS.mp4'\n",
            "'/gdrive/Shared drives/LEARNING/-CompTIA-/A+ - Mike Meyers/04.CPUs' -> '/gdrive/Shared drives/Exploits/LEARNING/-CompTIA-/A+ - Mike Meyers/04.CPUs'\n",
            "'/gdrive/Shared drives/LEARNING/-CompTIA-/A+ - Mike Meyers/04.CPUs/0401.What is a CPU.mp4' -> '/gdrive/Shared drives/Exploits/LEARNING/-CompTIA-/A+ - Mike Meyers/04.CPUs/0401.What is a CPU.mp4'\n",
            "'/gdrive/Shared drives/LEARNING/-CompTIA-/A+ - Mike Meyers/04.CPUs/0406.Liquid Cooling.mp4' -> '/gdrive/Shared drives/Exploits/LEARNING/-CompTIA-/A+ - Mike Meyers/04.CPUs/0406.Liquid Cooling.mp4'\n",
            "'/gdrive/Shared drives/LEARNING/-CompTIA-/A+ - Mike Meyers/04.CPUs/0402.CPU Speeds and Cores.mp4' -> '/gdrive/Shared drives/Exploits/LEARNING/-CompTIA-/A+ - Mike Meyers/04.CPUs/0402.CPU Speeds and Cores.mp4'\n",
            "'/gdrive/Shared drives/LEARNING/-CompTIA-/A+ - Mike Meyers/04.CPUs/0405.Installing a CPU.mp4' -> '/gdrive/Shared drives/Exploits/LEARNING/-CompTIA-/A+ - Mike Meyers/04.CPUs/0405.Installing a CPU.mp4'\n",
            "'/gdrive/Shared drives/LEARNING/-CompTIA-/A+ - Mike Meyers/04.CPUs/0404.CPU Sockets.mp4' -> '/gdrive/Shared drives/Exploits/LEARNING/-CompTIA-/A+ - Mike Meyers/04.CPUs/0404.CPU Sockets.mp4'\n",
            "'/gdrive/Shared drives/LEARNING/-CompTIA-/A+ - Mike Meyers/04.CPUs/0403.Caching.mp4' -> '/gdrive/Shared drives/Exploits/LEARNING/-CompTIA-/A+ - Mike Meyers/04.CPUs/0403.Caching.mp4'\n",
            "'/gdrive/Shared drives/LEARNING/-CompTIA-/A+ - Mike Meyers/13.Display Technologies' -> '/gdrive/Shared drives/Exploits/LEARNING/-CompTIA-/A+ - Mike Meyers/13.Display Technologies'\n",
            "'/gdrive/Shared drives/LEARNING/-CompTIA-/A+ - Mike Meyers/13.Display Technologies/1303.Graphics Cards and Connections.mp4' -> '/gdrive/Shared drives/Exploits/LEARNING/-CompTIA-/A+ - Mike Meyers/13.Display Technologies/1303.Graphics Cards and Connections.mp4'\n",
            "'/gdrive/Shared drives/LEARNING/-CompTIA-/A+ - Mike Meyers/13.Display Technologies/1304.Installing a Graphics Card.mp4' -> '/gdrive/Shared drives/Exploits/LEARNING/-CompTIA-/A+ - Mike Meyers/13.Display Technologies/1304.Installing a Graphics Card.mp4'\n",
            "'/gdrive/Shared drives/LEARNING/-CompTIA-/A+ - Mike Meyers/13.Display Technologies/1301.Monitor Technologies.mp4' -> '/gdrive/Shared drives/Exploits/LEARNING/-CompTIA-/A+ - Mike Meyers/13.Display Technologies/1301.Monitor Technologies.mp4'\n",
            "'/gdrive/Shared drives/LEARNING/-CompTIA-/A+ - Mike Meyers/13.Display Technologies/1306.Troubleshooting Monitors.mp4' -> '/gdrive/Shared drives/Exploits/LEARNING/-CompTIA-/A+ - Mike Meyers/13.Display Technologies/1306.Troubleshooting Monitors.mp4'\n",
            "'/gdrive/Shared drives/LEARNING/-CompTIA-/A+ - Mike Meyers/13.Display Technologies/1302.LCD Breakdown.mp4' -> '/gdrive/Shared drives/Exploits/LEARNING/-CompTIA-/A+ - Mike Meyers/13.Display Technologies/1302.LCD Breakdown.mp4'\n",
            "'/gdrive/Shared drives/LEARNING/-CompTIA-/A+ - Mike Meyers/13.Display Technologies/1305.Projectors.mp4' -> '/gdrive/Shared drives/Exploits/LEARNING/-CompTIA-/A+ - Mike Meyers/13.Display Technologies/1305.Projectors.mp4'\n",
            "'/gdrive/Shared drives/LEARNING/-CompTIA-/A+ - Mike Meyers/09.Mass Storage Technologies' -> '/gdrive/Shared drives/Exploits/LEARNING/-CompTIA-/A+ - Mike Meyers/09.Mass Storage Technologies'\n",
            "'/gdrive/Shared drives/LEARNING/-CompTIA-/A+ - Mike Meyers/09.Mass Storage Technologies/0903.Solid State Drives.mp4' -> '/gdrive/Shared drives/Exploits/LEARNING/-CompTIA-/A+ - Mike Meyers/09.Mass Storage Technologies/0903.Solid State Drives.mp4'\n",
            "'/gdrive/Shared drives/LEARNING/-CompTIA-/A+ - Mike Meyers/09.Mass Storage Technologies/0904.SCSI.mp4' -> '/gdrive/Shared drives/Exploits/LEARNING/-CompTIA-/A+ - Mike Meyers/09.Mass Storage Technologies/0904.SCSI.mp4'\n",
            "'/gdrive/Shared drives/LEARNING/-CompTIA-/A+ - Mike Meyers/09.Mass Storage Technologies/0902.Magnetic Disk Drives.mp4' -> '/gdrive/Shared drives/Exploits/LEARNING/-CompTIA-/A+ - Mike Meyers/09.Mass Storage Technologies/0902.Magnetic Disk Drives.mp4'\n",
            "'/gdrive/Shared drives/LEARNING/-CompTIA-/A+ - Mike Meyers/09.Mass Storage Technologies/0901.Introduction to Mass Storage.mp4' -> '/gdrive/Shared drives/Exploits/LEARNING/-CompTIA-/A+ - Mike Meyers/09.Mass Storage Technologies/0901.Introduction to Mass Storage.mp4'\n",
            "'/gdrive/Shared drives/LEARNING/-CompTIA-/A+ - Mike Meyers/09.Mass Storage Technologies/0905.Boot Order.mp4' -> '/gdrive/Shared drives/Exploits/LEARNING/-CompTIA-/A+ - Mike Meyers/09.Mass Storage Technologies/0905.Boot Order.mp4'\n",
            "'/gdrive/Shared drives/LEARNING/-CompTIA-/A+ - Mike Meyers/11.Essential Peripherals' -> '/gdrive/Shared drives/Exploits/LEARNING/-CompTIA-/A+ - Mike Meyers/11.Essential Peripherals'\n",
            "'/gdrive/Shared drives/LEARNING/-CompTIA-/A+ - Mike Meyers/11.Essential Peripherals/1105.Thunder and Lightning.mp4' -> '/gdrive/Shared drives/Exploits/LEARNING/-CompTIA-/A+ - Mike Meyers/11.Essential Peripherals/1105.Thunder and Lightning.mp4'\n",
            "'/gdrive/Shared drives/LEARNING/-CompTIA-/A+ - Mike Meyers/11.Essential Peripherals/1101.Optical Media.mp4' -> '/gdrive/Shared drives/Exploits/LEARNING/-CompTIA-/A+ - Mike Meyers/11.Essential Peripherals/1101.Optical Media.mp4'\n",
            "'/gdrive/Shared drives/LEARNING/-CompTIA-/A+ - Mike Meyers/11.Essential Peripherals/1109.Using Expansion Cards.mp4' -> '/gdrive/Shared drives/Exploits/LEARNING/-CompTIA-/A+ - Mike Meyers/11.Essential Peripherals/1109.Using Expansion Cards.mp4'\n",
            "'/gdrive/Shared drives/LEARNING/-CompTIA-/A+ - Mike Meyers/11.Essential Peripherals/1106.Keyboards and Mice.mp4' -> '/gdrive/Shared drives/Exploits/LEARNING/-CompTIA-/A+ - Mike Meyers/11.Essential Peripherals/1106.Keyboards and Mice.mp4'\n",
            "'/gdrive/Shared drives/LEARNING/-CompTIA-/A+ - Mike Meyers/11.Essential Peripherals/1102.USB Standards.mp4' -> '/gdrive/Shared drives/Exploits/LEARNING/-CompTIA-/A+ - Mike Meyers/11.Essential Peripherals/1102.USB Standards.mp4'\n",
            "'/gdrive/Shared drives/LEARNING/-CompTIA-/A+ - Mike Meyers/11.Essential Peripherals/1103.Understanding USB.mp4' -> '/gdrive/Shared drives/Exploits/LEARNING/-CompTIA-/A+ - Mike Meyers/11.Essential Peripherals/1103.Understanding USB.mp4'\n",
            "'/gdrive/Shared drives/LEARNING/-CompTIA-/A+ - Mike Meyers/11.Essential Peripherals/1107.Sight and Sound.mp4' -> '/gdrive/Shared drives/Exploits/LEARNING/-CompTIA-/A+ - Mike Meyers/11.Essential Peripherals/1107.Sight and Sound.mp4'\n",
            "'/gdrive/Shared drives/LEARNING/-CompTIA-/A+ - Mike Meyers/11.Essential Peripherals/1108.Readers and Scanners.mp4' -> '/gdrive/Shared drives/Exploits/LEARNING/-CompTIA-/A+ - Mike Meyers/11.Essential Peripherals/1108.Readers and Scanners.mp4'\n",
            "'/gdrive/Shared drives/LEARNING/-CompTIA-/A+ - Mike Meyers/11.Essential Peripherals/1104.Configuring USB.mp4' -> '/gdrive/Shared drives/Exploits/LEARNING/-CompTIA-/A+ - Mike Meyers/11.Essential Peripherals/1104.Configuring USB.mp4'\n",
            "'/gdrive/Shared drives/LEARNING/-CompTIA-/A+ - Mike Meyers/10.Implementing Mass Storage' -> '/gdrive/Shared drives/Exploits/LEARNING/-CompTIA-/A+ - Mike Meyers/10.Implementing Mass Storage'\n",
            "'/gdrive/Shared drives/LEARNING/-CompTIA-/A+ - Mike Meyers/10.Implementing Mass Storage/1002.RAID.mp4' -> '/gdrive/Shared drives/Exploits/LEARNING/-CompTIA-/A+ - Mike Meyers/10.Implementing Mass Storage/1002.RAID.mp4'\n",
            "'/gdrive/Shared drives/LEARNING/-CompTIA-/A+ - Mike Meyers/10.Implementing Mass Storage/1001.New Installation - First Drive.mp4' -> '/gdrive/Shared drives/Exploits/LEARNING/-CompTIA-/A+ - Mike Meyers/10.Implementing Mass Storage/1001.New Installation - First Drive.mp4'\n",
            "'/gdrive/Shared drives/LEARNING/-CompTIA-/A+ - Mike Meyers/10.Implementing Mass Storage/1003.Hardware RAID.mp4' -> '/gdrive/Shared drives/Exploits/LEARNING/-CompTIA-/A+ - Mike Meyers/10.Implementing Mass Storage/1003.Hardware RAID.mp4'\n",
            "'/gdrive/Shared drives/LEARNING/-CompTIA-/A+ - Mike Meyers/10.Implementing Mass Storage/1004.Mass Storage Troubleshooting.mp4' -> '/gdrive/Shared drives/Exploits/LEARNING/-CompTIA-/A+ - Mike Meyers/10.Implementing Mass Storage/1004.Mass Storage Troubleshooting.mp4'\n",
            "'/gdrive/Shared drives/LEARNING/-CompTIA-/A+ - Mike Meyers/12.Building a PC' -> '/gdrive/Shared drives/Exploits/LEARNING/-CompTIA-/A+ - Mike Meyers/12.Building a PC'\n",
            "'/gdrive/Shared drives/LEARNING/-CompTIA-/A+ - Mike Meyers/12.Building a PC/1201.The Right PC for the Job.mp4' -> '/gdrive/Shared drives/Exploits/LEARNING/-CompTIA-/A+ - Mike Meyers/12.Building a PC/1201.The Right PC for the Job.mp4'\n",
            "'/gdrive/Shared drives/LEARNING/-CompTIA-/A+ - Mike Meyers/08.Power Supplies' -> '/gdrive/Shared drives/Exploits/LEARNING/-CompTIA-/A+ - Mike Meyers/08.Power Supplies'\n",
            "'/gdrive/Shared drives/LEARNING/-CompTIA-/A+ - Mike Meyers/08.Power Supplies/0801.The Power Supply.mp4' -> '/gdrive/Shared drives/Exploits/LEARNING/-CompTIA-/A+ - Mike Meyers/08.Power Supplies/0801.The Power Supply.mp4'\n",
            "'/gdrive/Shared drives/LEARNING/-CompTIA-/A+ - Mike Meyers/08.Power Supplies/0805.Troubleshooting Power Supplies.mp4' -> '/gdrive/Shared drives/Exploits/LEARNING/-CompTIA-/A+ - Mike Meyers/08.Power Supplies/0805.Troubleshooting Power Supplies.mp4'\n",
            "'/gdrive/Shared drives/LEARNING/-CompTIA-/A+ - Mike Meyers/08.Power Supplies/0803.Choosing a Power Supply.mp4' -> '/gdrive/Shared drives/Exploits/LEARNING/-CompTIA-/A+ - Mike Meyers/08.Power Supplies/0803.Choosing a Power Supply.mp4'\n",
            "'/gdrive/Shared drives/LEARNING/-CompTIA-/A+ - Mike Meyers/08.Power Supplies/0806.Troubleshooting Core Components.mp4' -> '/gdrive/Shared drives/Exploits/LEARNING/-CompTIA-/A+ - Mike Meyers/08.Power Supplies/0806.Troubleshooting Core Components.mp4'\n",
            "'/gdrive/Shared drives/LEARNING/-CompTIA-/A+ - Mike Meyers/08.Power Supplies/0804.Cooling Your PC.mp4' -> '/gdrive/Shared drives/Exploits/LEARNING/-CompTIA-/A+ - Mike Meyers/08.Power Supplies/0804.Cooling Your PC.mp4'\n",
            "'/gdrive/Shared drives/LEARNING/-CompTIA-/A+ - Mike Meyers/08.Power Supplies/0802.Mounting a Power Supply.mp4' -> '/gdrive/Shared drives/Exploits/LEARNING/-CompTIA-/A+ - Mike Meyers/08.Power Supplies/0802.Mounting a Power Supply.mp4'\n",
            "'/gdrive/Shared drives/LEARNING/-CompTIA-/A+ - Mike Meyers/17.The Internet' -> '/gdrive/Shared drives/Exploits/LEARNING/-CompTIA-/A+ - Mike Meyers/17.The Internet'\n",
            "'/gdrive/Shared drives/LEARNING/-CompTIA-/A+ - Mike Meyers/17.The Internet/1705.Firewalls and Servers.mp4' -> '/gdrive/Shared drives/Exploits/LEARNING/-CompTIA-/A+ - Mike Meyers/17.The Internet/1705.Firewalls and Servers.mp4'\n",
            "'/gdrive/Shared drives/LEARNING/-CompTIA-/A+ - Mike Meyers/17.The Internet/1709.Virtual Private Networks (VPNs).mp4' -> '/gdrive/Shared drives/Exploits/LEARNING/-CompTIA-/A+ - Mike Meyers/17.The Internet/1709.Virtual Private Networks (VPNs).mp4'\n",
            "'/gdrive/Shared drives/LEARNING/-CompTIA-/A+ - Mike Meyers/17.The Internet/1703.Dial-up Connections.mp4' -> '/gdrive/Shared drives/Exploits/LEARNING/-CompTIA-/A+ - Mike Meyers/17.The Internet/1703.Dial-up Connections.mp4'\n",
            "'/gdrive/Shared drives/LEARNING/-CompTIA-/A+ - Mike Meyers/17.The Internet/1701.Beyond the LAN.mp4' -> '/gdrive/Shared drives/Exploits/LEARNING/-CompTIA-/A+ - Mike Meyers/17.The Internet/1701.Beyond the LAN.mp4'\n",
            "'/gdrive/Shared drives/LEARNING/-CompTIA-/A+ - Mike Meyers/17.The Internet/1707.E-Mail.mp4' -> '/gdrive/Shared drives/Exploits/LEARNING/-CompTIA-/A+ - Mike Meyers/17.The Internet/1707.E-Mail.mp4'\n",
            "'/gdrive/Shared drives/LEARNING/-CompTIA-/A+ - Mike Meyers/17.The Internet/1708.Proxy Servers.mp4' -> '/gdrive/Shared drives/Exploits/LEARNING/-CompTIA-/A+ - Mike Meyers/17.The Internet/1708.Proxy Servers.mp4'\n",
            "'/gdrive/Shared drives/LEARNING/-CompTIA-/A+ - Mike Meyers/17.The Internet/1706.FTP.mp4' -> '/gdrive/Shared drives/Exploits/LEARNING/-CompTIA-/A+ - Mike Meyers/17.The Internet/1706.FTP.mp4'\n",
            "'/gdrive/Shared drives/LEARNING/-CompTIA-/A+ - Mike Meyers/17.The Internet/1704.Broadband Connections.mp4' -> '/gdrive/Shared drives/Exploits/LEARNING/-CompTIA-/A+ - Mike Meyers/17.The Internet/1704.Broadband Connections.mp4'\n",
            "'/gdrive/Shared drives/LEARNING/-CompTIA-/A+ - Mike Meyers/17.The Internet/1710.Internet of Things (IoT).mp4' -> '/gdrive/Shared drives/Exploits/LEARNING/-CompTIA-/A+ - Mike Meyers/17.The Internet/1710.Internet of Things (IoT).mp4'\n",
            "'/gdrive/Shared drives/LEARNING/-CompTIA-/A+ - Mike Meyers/17.The Internet/1702.Internet Tiers.mp4' -> '/gdrive/Shared drives/Exploits/LEARNING/-CompTIA-/A+ - Mike Meyers/17.The Internet/1702.Internet Tiers.mp4'\n",
            "'/gdrive/Shared drives/LEARNING/-CompTIA-/A+ - Mike Meyers/15.Local Area Networking' -> '/gdrive/Shared drives/Exploits/LEARNING/-CompTIA-/A+ - Mike Meyers/15.Local Area Networking'\n",
            "'/gdrive/Shared drives/LEARNING/-CompTIA-/A+ - Mike Meyers/15.Local Area Networking/1505.Dynamic IP Addressing.mp4' -> '/gdrive/Shared drives/Exploits/LEARNING/-CompTIA-/A+ - Mike Meyers/15.Local Area Networking/1505.Dynamic IP Addressing.mp4'\n",
            "'/gdrive/Shared drives/LEARNING/-CompTIA-/A+ - Mike Meyers/15.Local Area Networking/1513.Basic Router Configuration.mp4' -> '/gdrive/Shared drives/Exploits/LEARNING/-CompTIA-/A+ - Mike Meyers/15.Local Area Networking/1513.Basic Router Configuration.mp4'\n",
            "'/gdrive/Shared drives/LEARNING/-CompTIA-/A+ - Mike Meyers/15.Local Area Networking/1515.VLANs.mp4' -> '/gdrive/Shared drives/Exploits/LEARNING/-CompTIA-/A+ - Mike Meyers/15.Local Area Networking/1515.VLANs.mp4'\n",
            "'/gdrive/Shared drives/LEARNING/-CompTIA-/A+ - Mike Meyers/15.Local Area Networking/1509.Understanding DNS.mp4' -> '/gdrive/Shared drives/Exploits/LEARNING/-CompTIA-/A+ - Mike Meyers/15.Local Area Networking/1509.Understanding DNS.mp4'\n",
            "'/gdrive/Shared drives/LEARNING/-CompTIA-/A+ - Mike Meyers/15.Local Area Networking/1501.Introduction to TCPIP.mp4' -> '/gdrive/Shared drives/Exploits/LEARNING/-CompTIA-/A+ - Mike Meyers/15.Local Area Networking/1501.Introduction to TCPIP.mp4'\n",
            "'/gdrive/Shared drives/LEARNING/-CompTIA-/A+ - Mike Meyers/15.Local Area Networking/1511.Windows Naming.mp4' -> '/gdrive/Shared drives/Exploits/LEARNING/-CompTIA-/A+ - Mike Meyers/15.Local Area Networking/1511.Windows Naming.mp4'\n",
            "'/gdrive/Shared drives/LEARNING/-CompTIA-/A+ - Mike Meyers/15.Local Area Networking/1516.Network Troubleshooting.mp4' -> '/gdrive/Shared drives/Exploits/LEARNING/-CompTIA-/A+ - Mike Meyers/15.Local Area Networking/1516.Network Troubleshooting.mp4'\n",
            "'/gdrive/Shared drives/LEARNING/-CompTIA-/A+ - Mike Meyers/15.Local Area Networking/1503.Special IP Addresses.mp4' -> '/gdrive/Shared drives/Exploits/LEARNING/-CompTIA-/A+ - Mike Meyers/15.Local Area Networking/1503.Special IP Addresses.mp4'\n",
            "'/gdrive/Shared drives/LEARNING/-CompTIA-/A+ - Mike Meyers/15.Local Area Networking/1512.Routers.mp4' -> '/gdrive/Shared drives/Exploits/LEARNING/-CompTIA-/A+ - Mike Meyers/15.Local Area Networking/1512.Routers.mp4'\n",
            "'/gdrive/Shared drives/LEARNING/-CompTIA-/A+ - Mike Meyers/15.Local Area Networking/1504.NAT.mp4' -> '/gdrive/Shared drives/Exploits/LEARNING/-CompTIA-/A+ - Mike Meyers/15.Local Area Networking/1504.NAT.mp4'\n",
            "'/gdrive/Shared drives/LEARNING/-CompTIA-/A+ - Mike Meyers/15.Local Area Networking/1514.Advanced Router Configuration.mp4' -> '/gdrive/Shared drives/Exploits/LEARNING/-CompTIA-/A+ - Mike Meyers/15.Local Area Networking/1514.Advanced Router Configuration.mp4'\n",
            "'/gdrive/Shared drives/LEARNING/-CompTIA-/A+ - Mike Meyers/15.Local Area Networking/1507.Port Numbers.mp4' -> '/gdrive/Shared drives/Exploits/LEARNING/-CompTIA-/A+ - Mike Meyers/15.Local Area Networking/1507.Port Numbers.mp4'\n",
            "'/gdrive/Shared drives/LEARNING/-CompTIA-/A+ - Mike Meyers/15.Local Area Networking/1508.TCP, UDP, and ICMP.mp4' -> '/gdrive/Shared drives/Exploits/LEARNING/-CompTIA-/A+ - Mike Meyers/15.Local Area Networking/1508.TCP, UDP, and ICMP.mp4'\n",
            "'/gdrive/Shared drives/LEARNING/-CompTIA-/A+ - Mike Meyers/15.Local Area Networking/1502.Network IDs and Subnet Masks.mp4' -> '/gdrive/Shared drives/Exploits/LEARNING/-CompTIA-/A+ - Mike Meyers/15.Local Area Networking/1502.Network IDs and Subnet Masks.mp4'\n",
            "'/gdrive/Shared drives/LEARNING/-CompTIA-/A+ - Mike Meyers/15.Local Area Networking/1510.Working with DNS.mp4' -> '/gdrive/Shared drives/Exploits/LEARNING/-CompTIA-/A+ - Mike Meyers/15.Local Area Networking/1510.Working with DNS.mp4'\n",
            "'/gdrive/Shared drives/LEARNING/-CompTIA-/A+ - Mike Meyers/15.Local Area Networking/1506.IPv6.mp4' -> '/gdrive/Shared drives/Exploits/LEARNING/-CompTIA-/A+ - Mike Meyers/15.Local Area Networking/1506.IPv6.mp4'\n",
            "'/gdrive/Shared drives/LEARNING/-CompTIA-/A+ - Mike Meyers/14.Essentials of Networking' -> '/gdrive/Shared drives/Exploits/LEARNING/-CompTIA-/A+ - Mike Meyers/14.Essentials of Networking'\n",
            "'/gdrive/Shared drives/LEARNING/-CompTIA-/A+ - Mike Meyers/14.Essentials of Networking/1406.Crimping Cables.mp4' -> '/gdrive/Shared drives/Exploits/LEARNING/-CompTIA-/A+ - Mike Meyers/14.Essentials of Networking/1406.Crimping Cables.mp4'\n",
            "'/gdrive/Shared drives/LEARNING/-CompTIA-/A+ - Mike Meyers/14.Essentials of Networking/1405.Cables and Connectors.mp4' -> '/gdrive/Shared drives/Exploits/LEARNING/-CompTIA-/A+ - Mike Meyers/14.Essentials of Networking/1405.Cables and Connectors.mp4'\n",
            "'/gdrive/Shared drives/LEARNING/-CompTIA-/A+ - Mike Meyers/14.Essentials of Networking/1401.Introduction to Networking.mp4' -> '/gdrive/Shared drives/Exploits/LEARNING/-CompTIA-/A+ - Mike Meyers/14.Essentials of Networking/1401.Introduction to Networking.mp4'\n",
            "'/gdrive/Shared drives/LEARNING/-CompTIA-/A+ - Mike Meyers/14.Essentials of Networking/1402.Hubs vs. Switches.mp4' -> '/gdrive/Shared drives/Exploits/LEARNING/-CompTIA-/A+ - Mike Meyers/14.Essentials of Networking/1402.Hubs vs. Switches.mp4'\n",
            "'/gdrive/Shared drives/LEARNING/-CompTIA-/A+ - Mike Meyers/14.Essentials of Networking/1407.Structured Cabling.mp4' -> '/gdrive/Shared drives/Exploits/LEARNING/-CompTIA-/A+ - Mike Meyers/14.Essentials of Networking/1407.Structured Cabling.mp4'\n",
            "'/gdrive/Shared drives/LEARNING/-CompTIA-/A+ - Mike Meyers/14.Essentials of Networking/1403.Hexadecimal.mp4' -> '/gdrive/Shared drives/Exploits/LEARNING/-CompTIA-/A+ - Mike Meyers/14.Essentials of Networking/1403.Hexadecimal.mp4'\n",
            "'/gdrive/Shared drives/LEARNING/-CompTIA-/A+ - Mike Meyers/14.Essentials of Networking/1404.WANs and Routers.mp4' -> '/gdrive/Shared drives/Exploits/LEARNING/-CompTIA-/A+ - Mike Meyers/14.Essentials of Networking/1404.WANs and Routers.mp4'\n",
            "'/gdrive/Shared drives/LEARNING/-CompTIA-/A+ - Mike Meyers/16.Wireless Networking' -> '/gdrive/Shared drives/Exploits/LEARNING/-CompTIA-/A+ - Mike Meyers/16.Wireless Networking'\n",
            "'/gdrive/Shared drives/LEARNING/-CompTIA-/A+ - Mike Meyers/16.Wireless Networking/1607.Troubleshooting Wireless Connections.mp4' -> '/gdrive/Shared drives/Exploits/LEARNING/-CompTIA-/A+ - Mike Meyers/16.Wireless Networking/1607.Troubleshooting Wireless Connections.mp4'\n",
            "\"/gdrive/Shared drives/LEARNING/-CompTIA-/A+ - Mike Meyers/16.Wireless Networking/1606.It's a Huge Mesh.mp4\" -> \"/gdrive/Shared drives/Exploits/LEARNING/-CompTIA-/A+ - Mike Meyers/16.Wireless Networking/1606.It's a Huge Mesh.mp4\"\n",
            "'/gdrive/Shared drives/LEARNING/-CompTIA-/A+ - Mike Meyers/16.Wireless Networking/1605.Connecting to a Wi-Fi Network.mp4' -> '/gdrive/Shared drives/Exploits/LEARNING/-CompTIA-/A+ - Mike Meyers/16.Wireless Networking/1605.Connecting to a Wi-Fi Network.mp4'\n",
            "'/gdrive/Shared drives/LEARNING/-CompTIA-/A+ - Mike Meyers/16.Wireless Networking/1607.Beyond Wi-Fi.mp4' -> '/gdrive/Shared drives/Exploits/LEARNING/-CompTIA-/A+ - Mike Meyers/16.Wireless Networking/1607.Beyond Wi-Fi.mp4'\n",
            "\"/gdrive/Shared drives/LEARNING/-CompTIA-/A+ - Mike Meyers/16.Wireless Networking/1605.It's a Huge Mesh.mp4\" -> \"/gdrive/Shared drives/Exploits/LEARNING/-CompTIA-/A+ - Mike Meyers/16.Wireless Networking/1605.It's a Huge Mesh.mp4\"\n",
            "'/gdrive/Shared drives/LEARNING/-CompTIA-/A+ - Mike Meyers/16.Wireless Networking/1606.Beyond Wi-Fi.mp4' -> '/gdrive/Shared drives/Exploits/LEARNING/-CompTIA-/A+ - Mike Meyers/16.Wireless Networking/1606.Beyond Wi-Fi.mp4'\n",
            "'/gdrive/Shared drives/LEARNING/-CompTIA-/A+ - Mike Meyers/16.Wireless Networking/1603.Basic WAP Setup.mp4' -> '/gdrive/Shared drives/Exploits/LEARNING/-CompTIA-/A+ - Mike Meyers/16.Wireless Networking/1603.Basic WAP Setup.mp4'\n",
            "'/gdrive/Shared drives/LEARNING/-CompTIA-/A+ - Mike Meyers/16.Wireless Networking/1602.Wi-Fi Standards.mp4' -> '/gdrive/Shared drives/Exploits/LEARNING/-CompTIA-/A+ - Mike Meyers/16.Wireless Networking/1602.Wi-Fi Standards.mp4'\n",
            "'/gdrive/Shared drives/LEARNING/-CompTIA-/A+ - Mike Meyers/16.Wireless Networking/1604.Wireless Encryption.mp4' -> '/gdrive/Shared drives/Exploits/LEARNING/-CompTIA-/A+ - Mike Meyers/16.Wireless Networking/1604.Wireless Encryption.mp4'\n",
            "'/gdrive/Shared drives/LEARNING/-CompTIA-/A+ - Mike Meyers/16.Wireless Networking/1601.Wireless Network Hardware.mp4' -> '/gdrive/Shared drives/Exploits/LEARNING/-CompTIA-/A+ - Mike Meyers/16.Wireless Networking/1601.Wireless Network Hardware.mp4'\n",
            "'/gdrive/Shared drives/LEARNING/-CompTIA-/A+ - Mike Meyers/16.Wireless Networking/1604.Connecting to a Wi-Fi Network.mp4' -> '/gdrive/Shared drives/Exploits/LEARNING/-CompTIA-/A+ - Mike Meyers/16.Wireless Networking/1604.Connecting to a Wi-Fi Network.mp4'\n",
            "'/gdrive/Shared drives/LEARNING/-CompTIA-/A+ - Mike Meyers/23.Securing Computers' -> '/gdrive/Shared drives/Exploits/LEARNING/-CompTIA-/A+ - Mike Meyers/23.Securing Computers'\n",
            "'/gdrive/Shared drives/LEARNING/-CompTIA-/A+ - Mike Meyers/23.Securing Computers/2301.Dealing with Threats.mp4' -> '/gdrive/Shared drives/Exploits/LEARNING/-CompTIA-/A+ - Mike Meyers/23.Securing Computers/2301.Dealing with Threats.mp4'\n",
            "'/gdrive/Shared drives/LEARNING/-CompTIA-/A+ - Mike Meyers/21.Care and Feeding of Mobile Devices' -> '/gdrive/Shared drives/Exploits/LEARNING/-CompTIA-/A+ - Mike Meyers/21.Care and Feeding of Mobile Devices'\n",
            "'/gdrive/Shared drives/LEARNING/-CompTIA-/A+ - Mike Meyers/21.Care and Feeding of Mobile Devices/2103.Mobile Synchronization.mp4' -> '/gdrive/Shared drives/Exploits/LEARNING/-CompTIA-/A+ - Mike Meyers/21.Care and Feeding of Mobile Devices/2103.Mobile Synchronization.mp4'\n",
            "'/gdrive/Shared drives/LEARNING/-CompTIA-/A+ - Mike Meyers/21.Care and Feeding of Mobile Devices/2101.Maintaining Mobile Devices.mp4' -> '/gdrive/Shared drives/Exploits/LEARNING/-CompTIA-/A+ - Mike Meyers/21.Care and Feeding of Mobile Devices/2101.Maintaining Mobile Devices.mp4'\n",
            "'/gdrive/Shared drives/LEARNING/-CompTIA-/A+ - Mike Meyers/21.Care and Feeding of Mobile Devices/2102.Mobile Devices and E-mail.mp4' -> '/gdrive/Shared drives/Exploits/LEARNING/-CompTIA-/A+ - Mike Meyers/21.Care and Feeding of Mobile Devices/2102.Mobile Devices and E-mail.mp4'\n",
            "'/gdrive/Shared drives/LEARNING/-CompTIA-/A+ - Mike Meyers/19.Portable Computing' -> '/gdrive/Shared drives/Exploits/LEARNING/-CompTIA-/A+ - Mike Meyers/19.Portable Computing'\n",
            "'/gdrive/Shared drives/LEARNING/-CompTIA-/A+ - Mike Meyers/19.Portable Computing/1901.Laptop Features.mp4' -> '/gdrive/Shared drives/Exploits/LEARNING/-CompTIA-/A+ - Mike Meyers/19.Portable Computing/1901.Laptop Features.mp4'\n",
            "'/gdrive/Shared drives/LEARNING/-CompTIA-/A+ - Mike Meyers/19.Portable Computing/1903.Laptop Hardware - Core Hardware.mp4' -> '/gdrive/Shared drives/Exploits/LEARNING/-CompTIA-/A+ - Mike Meyers/19.Portable Computing/1903.Laptop Hardware - Core Hardware.mp4'\n",
            "'/gdrive/Shared drives/LEARNING/-CompTIA-/A+ - Mike Meyers/19.Portable Computing/1905.Touring Your Laptop Display.mp4' -> '/gdrive/Shared drives/Exploits/LEARNING/-CompTIA-/A+ - Mike Meyers/19.Portable Computing/1905.Touring Your Laptop Display.mp4'\n",
            "'/gdrive/Shared drives/LEARNING/-CompTIA-/A+ - Mike Meyers/19.Portable Computing/1904.Laptop Hardware - CPU and Motherboard.mp4' -> '/gdrive/Shared drives/Exploits/LEARNING/-CompTIA-/A+ - Mike Meyers/19.Portable Computing/1904.Laptop Hardware - CPU and Motherboard.mp4'\n",
            "'/gdrive/Shared drives/LEARNING/-CompTIA-/A+ - Mike Meyers/19.Portable Computing/1902.Laptop Hardware Troubleshooting - The Tools.mp4' -> '/gdrive/Shared drives/Exploits/LEARNING/-CompTIA-/A+ - Mike Meyers/19.Portable Computing/1902.Laptop Hardware Troubleshooting - The Tools.mp4'\n",
            "'/gdrive/Shared drives/LEARNING/-CompTIA-/A+ - Mike Meyers/18.Virtualization' -> '/gdrive/Shared drives/Exploits/LEARNING/-CompTIA-/A+ - Mike Meyers/18.Virtualization'\n",
            "'/gdrive/Shared drives/LEARNING/-CompTIA-/A+ - Mike Meyers/18.Virtualization/1805.Cloud Ownership.mp4' -> '/gdrive/Shared drives/Exploits/LEARNING/-CompTIA-/A+ - Mike Meyers/18.Virtualization/1805.Cloud Ownership.mp4'\n",
            "'/gdrive/Shared drives/LEARNING/-CompTIA-/A+ - Mike Meyers/18.Virtualization/1803.Advanced Virtualization Setup.mp4' -> '/gdrive/Shared drives/Exploits/LEARNING/-CompTIA-/A+ - Mike Meyers/18.Virtualization/1803.Advanced Virtualization Setup.mp4'\n",
            "'/gdrive/Shared drives/LEARNING/-CompTIA-/A+ - Mike Meyers/18.Virtualization/1806.Cloud-Based Applications.mp4' -> '/gdrive/Shared drives/Exploits/LEARNING/-CompTIA-/A+ - Mike Meyers/18.Virtualization/1806.Cloud-Based Applications.mp4'\n",
            "'/gdrive/Shared drives/LEARNING/-CompTIA-/A+ - Mike Meyers/18.Virtualization/1801.Understanding Virtualization.mp4' -> '/gdrive/Shared drives/Exploits/LEARNING/-CompTIA-/A+ - Mike Meyers/18.Virtualization/1801.Understanding Virtualization.mp4'\n",
            "'/gdrive/Shared drives/LEARNING/-CompTIA-/A+ - Mike Meyers/18.Virtualization/1802.Your First Virtual Machine.mp4' -> '/gdrive/Shared drives/Exploits/LEARNING/-CompTIA-/A+ - Mike Meyers/18.Virtualization/1802.Your First Virtual Machine.mp4'\n",
            "'/gdrive/Shared drives/LEARNING/-CompTIA-/A+ - Mike Meyers/18.Virtualization/1804.Cloud Computing.mp4' -> '/gdrive/Shared drives/Exploits/LEARNING/-CompTIA-/A+ - Mike Meyers/18.Virtualization/1804.Cloud Computing.mp4'\n",
            "'/gdrive/Shared drives/LEARNING/-CompTIA-/A+ - Mike Meyers/22.Printers and Multifunction Devices' -> '/gdrive/Shared drives/Exploits/LEARNING/-CompTIA-/A+ - Mike Meyers/22.Printers and Multifunction Devices'\n",
            "'/gdrive/Shared drives/LEARNING/-CompTIA-/A+ - Mike Meyers/22.Printers and Multifunction Devices/2204.Thermal Printers.mp4' -> '/gdrive/Shared drives/Exploits/LEARNING/-CompTIA-/A+ - Mike Meyers/22.Printers and Multifunction Devices/2204.Thermal Printers.mp4'\n",
            "'/gdrive/Shared drives/LEARNING/-CompTIA-/A+ - Mike Meyers/22.Printers and Multifunction Devices/2206.Sharing Printers.mp4' -> '/gdrive/Shared drives/Exploits/LEARNING/-CompTIA-/A+ - Mike Meyers/22.Printers and Multifunction Devices/2206.Sharing Printers.mp4'\n",
            "'/gdrive/Shared drives/LEARNING/-CompTIA-/A+ - Mike Meyers/22.Printers and Multifunction Devices/2208.Troubleshooting Printers.mp4' -> '/gdrive/Shared drives/Exploits/LEARNING/-CompTIA-/A+ - Mike Meyers/22.Printers and Multifunction Devices/2208.Troubleshooting Printers.mp4'\n",
            "'/gdrive/Shared drives/LEARNING/-CompTIA-/A+ - Mike Meyers/22.Printers and Multifunction Devices/2202.Inkjet Printers.mp4' -> '/gdrive/Shared drives/Exploits/LEARNING/-CompTIA-/A+ - Mike Meyers/22.Printers and Multifunction Devices/2202.Inkjet Printers.mp4'\n",
            "'/gdrive/Shared drives/LEARNING/-CompTIA-/A+ - Mike Meyers/22.Printers and Multifunction Devices/2203.Impact Printers.mp4' -> '/gdrive/Shared drives/Exploits/LEARNING/-CompTIA-/A+ - Mike Meyers/22.Printers and Multifunction Devices/2203.Impact Printers.mp4'\n",
            "'/gdrive/Shared drives/LEARNING/-CompTIA-/A+ - Mike Meyers/22.Printers and Multifunction Devices/2209.3D Printing.mp4' -> '/gdrive/Shared drives/Exploits/LEARNING/-CompTIA-/A+ - Mike Meyers/22.Printers and Multifunction Devices/2209.3D Printing.mp4'\n",
            "'/gdrive/Shared drives/LEARNING/-CompTIA-/A+ - Mike Meyers/22.Printers and Multifunction Devices/2207.Installing Wireless and Cloud Printers.mp4' -> '/gdrive/Shared drives/Exploits/LEARNING/-CompTIA-/A+ - Mike Meyers/22.Printers and Multifunction Devices/2207.Installing Wireless and Cloud Printers.mp4'\n",
            "'/gdrive/Shared drives/LEARNING/-CompTIA-/A+ - Mike Meyers/22.Printers and Multifunction Devices/2205.Installing a Local Printer.mp4' -> '/gdrive/Shared drives/Exploits/LEARNING/-CompTIA-/A+ - Mike Meyers/22.Printers and Multifunction Devices/2205.Installing a Local Printer.mp4'\n",
            "'/gdrive/Shared drives/LEARNING/-CompTIA-/A+ - Mike Meyers/22.Printers and Multifunction Devices/2201.Laser Printers.mp4' -> '/gdrive/Shared drives/Exploits/LEARNING/-CompTIA-/A+ - Mike Meyers/22.Printers and Multifunction Devices/2201.Laser Printers.mp4'\n",
            "'/gdrive/Shared drives/LEARNING/-CompTIA-/A+ - Mike Meyers/Exercise Files' -> '/gdrive/Shared drives/Exploits/LEARNING/-CompTIA-/A+ - Mike Meyers/Exercise Files'\n",
            "'/gdrive/Shared drives/LEARNING/-CompTIA-/A+ - Mike Meyers/Exercise Files/exercise_files.zip' -> '/gdrive/Shared drives/Exploits/LEARNING/-CompTIA-/A+ - Mike Meyers/Exercise Files/exercise_files.zip'\n",
            "'/gdrive/Shared drives/LEARNING/-CompTIA-/A+ - Mike Meyers/20.Understanding Mobile Devices' -> '/gdrive/Shared drives/Exploits/LEARNING/-CompTIA-/A+ - Mike Meyers/20.Understanding Mobile Devices'\n",
            "'/gdrive/Shared drives/LEARNING/-CompTIA-/A+ - Mike Meyers/20.Understanding Mobile Devices/2002.Mobile Connections.mp4' -> '/gdrive/Shared drives/Exploits/LEARNING/-CompTIA-/A+ - Mike Meyers/20.Understanding Mobile Devices/2002.Mobile Connections.mp4'\n",
            "'/gdrive/Shared drives/LEARNING/-CompTIA-/A+ - Mike Meyers/20.Understanding Mobile Devices/2003.Touring Android.mp4' -> '/gdrive/Shared drives/Exploits/LEARNING/-CompTIA-/A+ - Mike Meyers/20.Understanding Mobile Devices/2003.Touring Android.mp4'\n",
            "'/gdrive/Shared drives/LEARNING/-CompTIA-/A+ - Mike Meyers/20.Understanding Mobile Devices/2004.Touring iOS.mp4' -> '/gdrive/Shared drives/Exploits/LEARNING/-CompTIA-/A+ - Mike Meyers/20.Understanding Mobile Devices/2004.Touring iOS.mp4'\n",
            "'/gdrive/Shared drives/LEARNING/-CompTIA-/A+ - Mike Meyers/20.Understanding Mobile Devices/2001.What is a Mobile Device.mp4' -> '/gdrive/Shared drives/Exploits/LEARNING/-CompTIA-/A+ - Mike Meyers/20.Understanding Mobile Devices/2001.What is a Mobile Device.mp4'\n",
            "'/gdrive/Shared drives/LEARNING/-CompTIA-/A+ - Mike Meyers/20.Understanding Mobile Devices/2005.Virtual Reality.mp4' -> '/gdrive/Shared drives/Exploits/LEARNING/-CompTIA-/A+ - Mike Meyers/20.Understanding Mobile Devices/2005.Virtual Reality.mp4'\n",
            "'/gdrive/Shared drives/LEARNING/-CompTIA-/A+ - Mike Meyers/CompTIA-A-220-901-and-220-902-Practice-Questions-Exam-Cram.pdf' -> '/gdrive/Shared drives/Exploits/LEARNING/-CompTIA-/A+ - Mike Meyers/CompTIA-A-220-901-and-220-902-Practice-Questions-Exam-Cram.pdf'\n",
            "'/gdrive/Shared drives/LEARNING/-CompTIA-/A+ - Mike Meyers/A+ Cheat Sheet.pdf' -> '/gdrive/Shared drives/Exploits/LEARNING/-CompTIA-/A+ - Mike Meyers/A+ Cheat Sheet.pdf'\n",
            "'/gdrive/Shared drives/LEARNING/-CompTIA-/A+ - Mike Meyers/220-1001.pdf' -> '/gdrive/Shared drives/Exploits/LEARNING/-CompTIA-/A+ - Mike Meyers/220-1001.pdf'\n",
            "'/gdrive/Shared drives/LEARNING/-CompTIA-/A+ - Mike Meyers/CompTIA A+ Certification Study Guide,.pdf' -> '/gdrive/Shared drives/Exploits/LEARNING/-CompTIA-/A+ - Mike Meyers/CompTIA A+ Certification Study Guide,.pdf'\n",
            "'/gdrive/Shared drives/LEARNING/-CompTIA-/A+ - Mike Meyers/220-1002.pdf' -> '/gdrive/Shared drives/Exploits/LEARNING/-CompTIA-/A+ - Mike Meyers/220-1002.pdf'\n",
            "'/gdrive/Shared drives/LEARNING/-CompTIA-/A+ - Mike Meyers/CompTIA A_ Core 1 (220-1001) an - David L. Prowse.pdf' -> '/gdrive/Shared drives/Exploits/LEARNING/-CompTIA-/A+ - Mike Meyers/CompTIA A_ Core 1 (220-1001) an - David L. Prowse.pdf'\n",
            "'/gdrive/Shared drives/LEARNING/-CompTIA-/CASP' -> '/gdrive/Shared drives/Exploits/LEARNING/-CompTIA-/CASP'\n",
            "'/gdrive/Shared drives/LEARNING/-CompTIA-/CASP/CompTIA Advanced Security Practitioner (CASP) CAS-003' -> '/gdrive/Shared drives/Exploits/LEARNING/-CompTIA-/CASP/CompTIA Advanced Security Practitioner (CASP) CAS-003'\n",
            "'/gdrive/Shared drives/LEARNING/-CompTIA-/CASP/CompTIA Advanced Security Practitioner (CASP) CAS-003/04 - 1.1 Risk Management of New Initiatives.mp4' -> '/gdrive/Shared drives/Exploits/LEARNING/-CompTIA-/CASP/CompTIA Advanced Security Practitioner (CASP) CAS-003/04 - 1.1 Risk Management of New Initiatives.mp4'\n",
            "'/gdrive/Shared drives/LEARNING/-CompTIA-/CASP/CompTIA Advanced Security Practitioner (CASP) CAS-003/08 - Learning objectives.mp4' -> '/gdrive/Shared drives/Exploits/LEARNING/-CompTIA-/CASP/CompTIA Advanced Security Practitioner (CASP) CAS-003/08 - Learning objectives.mp4'\n",
            "'/gdrive/Shared drives/LEARNING/-CompTIA-/CASP/CompTIA Advanced Security Practitioner (CASP) CAS-003/12 - 2.4 Security Requirements for Contracts.mp4' -> '/gdrive/Shared drives/Exploits/LEARNING/-CompTIA-/CASP/CompTIA Advanced Security Practitioner (CASP) CAS-003/12 - 2.4 Security Requirements for Contracts.mp4'\n",
            "'/gdrive/Shared drives/LEARNING/-CompTIA-/CASP/CompTIA Advanced Security Practitioner (CASP) CAS-003/16 - 3.1 CIA-based Decisions for the Organization.mp4' -> '/gdrive/Shared drives/Exploits/LEARNING/-CompTIA-/CASP/CompTIA Advanced Security Practitioner (CASP) CAS-003/16 - 3.1 CIA-based Decisions for the Organization.mp4'\n",
            "'/gdrive/Shared drives/LEARNING/-CompTIA-/CASP/CompTIA Advanced Security Practitioner (CASP) CAS-003/20 - 3.5 Risk Treatment.mp4' -> '/gdrive/Shared drives/Exploits/LEARNING/-CompTIA-/CASP/CompTIA Advanced Security Practitioner (CASP) CAS-003/20 - 3.5 Risk Treatment.mp4'\n",
            "'/gdrive/Shared drives/LEARNING/-CompTIA-/CASP/CompTIA Advanced Security Practitioner (CASP) CAS-003/24 - 3.9 Enterprise Resilience and Continual Improvement.mp4' -> '/gdrive/Shared drives/Exploits/LEARNING/-CompTIA-/CASP/CompTIA Advanced Security Practitioner (CASP) CAS-003/24 - 3.9 Enterprise Resilience and Continual Improvement.mp4'\n",
            "'/gdrive/Shared drives/LEARNING/-CompTIA-/CASP/CompTIA Advanced Security Practitioner (CASP) CAS-003/28 - 4.3 Collecting and Analyzing Metrics.mp4' -> '/gdrive/Shared drives/Exploits/LEARNING/-CompTIA-/CASP/CompTIA Advanced Security Practitioner (CASP) CAS-003/28 - 4.3 Collecting and Analyzing Metrics.mp4'\n",
            "'/gdrive/Shared drives/LEARNING/-CompTIA-/CASP/CompTIA Advanced Security Practitioner (CASP) CAS-003/32 - Module Introduction.mp4' -> '/gdrive/Shared drives/Exploits/LEARNING/-CompTIA-/CASP/CompTIA Advanced Security Practitioner (CASP) CAS-003/32 - Module Introduction.mp4'\n",
            "'/gdrive/Shared drives/LEARNING/-CompTIA-/CASP/CompTIA Advanced Security Practitioner (CASP) CAS-003/36 - 5.3 Advanced Network Design - Cryptographic Solutions.mp4' -> '/gdrive/Shared drives/Exploits/LEARNING/-CompTIA-/CASP/CompTIA Advanced Security Practitioner (CASP) CAS-003/36 - 5.3 Advanced Network Design - Cryptographic Solutions.mp4'\n",
            "'/gdrive/Shared drives/LEARNING/-CompTIA-/CASP/CompTIA Advanced Security Practitioner (CASP) CAS-003/03 - Learning objectives.mp4' -> '/gdrive/Shared drives/Exploits/LEARNING/-CompTIA-/CASP/CompTIA Advanced Security Practitioner (CASP) CAS-003/03 - Learning objectives.mp4'\n",
            "'/gdrive/Shared drives/LEARNING/-CompTIA-/CASP/CompTIA Advanced Security Practitioner (CASP) CAS-003/02 - Module Introduction.mp4' -> '/gdrive/Shared drives/Exploits/LEARNING/-CompTIA-/CASP/CompTIA Advanced Security Practitioner (CASP) CAS-003/02 - Module Introduction.mp4'\n",
            "'/gdrive/Shared drives/LEARNING/-CompTIA-/CASP/CompTIA Advanced Security Practitioner (CASP) CAS-003/01 - CompTIA Advanced Security Practitioner - Introduction.mp4' -> '/gdrive/Shared drives/Exploits/LEARNING/-CompTIA-/CASP/CompTIA Advanced Security Practitioner (CASP) CAS-003/01 - CompTIA Advanced Security Practitioner - Introduction.mp4'\n",
            "'/gdrive/Shared drives/LEARNING/-CompTIA-/CASP/CompTIA Advanced Security Practitioner (CASP) CAS-003/05 - 1.2 Business and Industry Policies.mp4' -> '/gdrive/Shared drives/Exploits/LEARNING/-CompTIA-/CASP/CompTIA Advanced Security Practitioner (CASP) CAS-003/05 - 1.2 Business and Industry Policies.mp4'\n",
            "'/gdrive/Shared drives/LEARNING/-CompTIA-/CASP/CompTIA Advanced Security Practitioner (CASP) CAS-003/07 - 1.4 Impacts of De-perimiterization.mp4' -> '/gdrive/Shared drives/Exploits/LEARNING/-CompTIA-/CASP/CompTIA Advanced Security Practitioner (CASP) CAS-003/07 - 1.4 Impacts of De-perimiterization.mp4'\n",
            "'/gdrive/Shared drives/LEARNING/-CompTIA-/CASP/CompTIA Advanced Security Practitioner (CASP) CAS-003/06 - 1.3 Internal and External Influences.mp4' -> '/gdrive/Shared drives/Exploits/LEARNING/-CompTIA-/CASP/CompTIA Advanced Security Practitioner (CASP) CAS-003/06 - 1.3 Internal and External Influences.mp4'\n",
            "'/gdrive/Shared drives/LEARNING/-CompTIA-/CASP/CompTIA Advanced Security Practitioner (CASP) CAS-003/09 - 2.1 Policy and Process Life Cycle Management.mp4' -> '/gdrive/Shared drives/Exploits/LEARNING/-CompTIA-/CASP/CompTIA Advanced Security Practitioner (CASP) CAS-003/09 - 2.1 Policy and Process Life Cycle Management.mp4'\n",
            "'/gdrive/Shared drives/LEARNING/-CompTIA-/CASP/CompTIA Advanced Security Practitioner (CASP) CAS-003/11 - 2.3 Common Business Documentation.mp4' -> '/gdrive/Shared drives/Exploits/LEARNING/-CompTIA-/CASP/CompTIA Advanced Security Practitioner (CASP) CAS-003/11 - 2.3 Common Business Documentation.mp4'\n",
            "'/gdrive/Shared drives/LEARNING/-CompTIA-/CASP/CompTIA Advanced Security Practitioner (CASP) CAS-003/10 - 2.2 Partnering with HR, Legal, and the C-Suite.mp4' -> '/gdrive/Shared drives/Exploits/LEARNING/-CompTIA-/CASP/CompTIA Advanced Security Practitioner (CASP) CAS-003/10 - 2.2 Partnering with HR, Legal, and the C-Suite.mp4'\n",
            "'/gdrive/Shared drives/LEARNING/-CompTIA-/CASP/CompTIA Advanced Security Practitioner (CASP) CAS-003/13 - 2.5 General Principles for Sensitive Information.mp4' -> '/gdrive/Shared drives/Exploits/LEARNING/-CompTIA-/CASP/CompTIA Advanced Security Practitioner (CASP) CAS-003/13 - 2.5 General Principles for Sensitive Information.mp4'\n",
            "'/gdrive/Shared drives/LEARNING/-CompTIA-/CASP/CompTIA Advanced Security Practitioner (CASP) CAS-003/15 - Learning objectives.mp4' -> '/gdrive/Shared drives/Exploits/LEARNING/-CompTIA-/CASP/CompTIA Advanced Security Practitioner (CASP) CAS-003/15 - Learning objectives.mp4'\n",
            "'/gdrive/Shared drives/LEARNING/-CompTIA-/CASP/CompTIA Advanced Security Practitioner (CASP) CAS-003/14 - 2.6 Developing Standard Policies and Security Practices.mp4' -> '/gdrive/Shared drives/Exploits/LEARNING/-CompTIA-/CASP/CompTIA Advanced Security Practitioner (CASP) CAS-003/14 - 2.6 Developing Standard Policies and Security Practices.mp4'\n",
            "'/gdrive/Shared drives/LEARNING/-CompTIA-/CASP/CompTIA Advanced Security Practitioner (CASP) CAS-003/17 - 3.2 System-specific Worst-case Analysis.mp4' -> '/gdrive/Shared drives/Exploits/LEARNING/-CompTIA-/CASP/CompTIA Advanced Security Practitioner (CASP) CAS-003/17 - 3.2 System-specific Worst-case Analysis.mp4'\n",
            "'/gdrive/Shared drives/LEARNING/-CompTIA-/CASP/CompTIA Advanced Security Practitioner (CASP) CAS-003/19 - 3.4 Translating Risk into Business Terms.mp4' -> '/gdrive/Shared drives/Exploits/LEARNING/-CompTIA-/CASP/CompTIA Advanced Security Practitioner (CASP) CAS-003/19 - 3.4 Translating Risk into Business Terms.mp4'\n",
            "'/gdrive/Shared drives/LEARNING/-CompTIA-/CASP/CompTIA Advanced Security Practitioner (CASP) CAS-003/18 - 3.3 Risk Determination.mp4' -> '/gdrive/Shared drives/Exploits/LEARNING/-CompTIA-/CASP/CompTIA Advanced Security Practitioner (CASP) CAS-003/18 - 3.3 Risk Determination.mp4'\n",
            "'/gdrive/Shared drives/LEARNING/-CompTIA-/CASP/CompTIA Advanced Security Practitioner (CASP) CAS-003/21 - 3.6 Risk Management Process.mp4' -> '/gdrive/Shared drives/Exploits/LEARNING/-CompTIA-/CASP/CompTIA Advanced Security Practitioner (CASP) CAS-003/21 - 3.6 Risk Management Process.mp4'\n",
            "'/gdrive/Shared drives/LEARNING/-CompTIA-/CASP/CompTIA Advanced Security Practitioner (CASP) CAS-003/23 - 3.8 IT Governance and Frameworks.mp4' -> '/gdrive/Shared drives/Exploits/LEARNING/-CompTIA-/CASP/CompTIA Advanced Security Practitioner (CASP) CAS-003/23 - 3.8 IT Governance and Frameworks.mp4'\n",
            "'/gdrive/Shared drives/LEARNING/-CompTIA-/CASP/CompTIA Advanced Security Practitioner (CASP) CAS-003/22 - 3.7 Business Continuity Planning.mp4' -> '/gdrive/Shared drives/Exploits/LEARNING/-CompTIA-/CASP/CompTIA Advanced Security Practitioner (CASP) CAS-003/22 - 3.7 Business Continuity Planning.mp4'\n",
            "'/gdrive/Shared drives/LEARNING/-CompTIA-/CASP/CompTIA Advanced Security Practitioner (CASP) CAS-003/27 - 4.2 Reverse Engineering and Deconstruction.mp4' -> '/gdrive/Shared drives/Exploits/LEARNING/-CompTIA-/CASP/CompTIA Advanced Security Practitioner (CASP) CAS-003/27 - 4.2 Reverse Engineering and Deconstruction.mp4'\n",
            "'/gdrive/Shared drives/LEARNING/-CompTIA-/CASP/CompTIA Advanced Security Practitioner (CASP) CAS-003/25 - Learning objectives.mp4' -> '/gdrive/Shared drives/Exploits/LEARNING/-CompTIA-/CASP/CompTIA Advanced Security Practitioner (CASP) CAS-003/25 - Learning objectives.mp4'\n",
            "'/gdrive/Shared drives/LEARNING/-CompTIA-/CASP/CompTIA Advanced Security Practitioner (CASP) CAS-003/26 - 4.1 Reviewing Control Effectiveness.mp4' -> '/gdrive/Shared drives/Exploits/LEARNING/-CompTIA-/CASP/CompTIA Advanced Security Practitioner (CASP) CAS-003/26 - 4.1 Reviewing Control Effectiveness.mp4'\n",
            "'/gdrive/Shared drives/LEARNING/-CompTIA-/CASP/CompTIA Advanced Security Practitioner (CASP) CAS-003/29 - 4.4 Prototypes, Benchmarks, and Baselines.mp4' -> '/gdrive/Shared drives/Exploits/LEARNING/-CompTIA-/CASP/CompTIA Advanced Security Practitioner (CASP) CAS-003/29 - 4.4 Prototypes, Benchmarks, and Baselines.mp4'\n",
            "'/gdrive/Shared drives/LEARNING/-CompTIA-/CASP/CompTIA Advanced Security Practitioner (CASP) CAS-003/31 - 4.6 Analyzing Solution Metrics for Business Needs.mp4' -> '/gdrive/Shared drives/Exploits/LEARNING/-CompTIA-/CASP/CompTIA Advanced Security Practitioner (CASP) CAS-003/31 - 4.6 Analyzing Solution Metrics for Business Needs.mp4'\n",
            "'/gdrive/Shared drives/LEARNING/-CompTIA-/CASP/CompTIA Advanced Security Practitioner (CASP) CAS-003/30 - 4.5 Analyzing Cyber Defense Trends.mp4' -> '/gdrive/Shared drives/Exploits/LEARNING/-CompTIA-/CASP/CompTIA Advanced Security Practitioner (CASP) CAS-003/30 - 4.5 Analyzing Cyber Defense Trends.mp4'\n",
            "'/gdrive/Shared drives/LEARNING/-CompTIA-/CASP/CompTIA Advanced Security Practitioner (CASP) CAS-003/33 - Learning objectives.mp4' -> '/gdrive/Shared drives/Exploits/LEARNING/-CompTIA-/CASP/CompTIA Advanced Security Practitioner (CASP) CAS-003/33 - Learning objectives.mp4'\n",
            "'/gdrive/Shared drives/LEARNING/-CompTIA-/CASP/CompTIA Advanced Security Practitioner (CASP) CAS-003/35 - 5.2 Application and Protocol-aware Technologies.mp4' -> '/gdrive/Shared drives/Exploits/LEARNING/-CompTIA-/CASP/CompTIA Advanced Security Practitioner (CASP) CAS-003/35 - 5.2 Application and Protocol-aware Technologies.mp4'\n",
            "'/gdrive/Shared drives/LEARNING/-CompTIA-/CASP/CompTIA Advanced Security Practitioner (CASP) CAS-003/34 - 5.1 Physical and Virtual Network and Security Devices.mp4' -> '/gdrive/Shared drives/Exploits/LEARNING/-CompTIA-/CASP/CompTIA Advanced Security Practitioner (CASP) CAS-003/34 - 5.1 Physical and Virtual Network and Security Devices.mp4'\n",
            "'/gdrive/Shared drives/LEARNING/-CompTIA-/CASP/CompTIA Advanced Security Practitioner (CASP) CAS-003/37 - 5.4 Advanced Network Design - Networking Solutions.mp4' -> '/gdrive/Shared drives/Exploits/LEARNING/-CompTIA-/CASP/CompTIA Advanced Security Practitioner (CASP) CAS-003/37 - 5.4 Advanced Network Design - Networking Solutions.mp4'\n",
            "^C\n"
          ],
          "name": "stdout"
        }
      ]
    }
  ]
}